{
 "metadata": {
  "name": "font2blank"
 },
 "nbformat": 3,
 "nbformat_minor": 0,
 "worksheets": [
  {
   "cells": [
    {
     "cell_type": "code",
     "collapsed": true,
     "input": [
      "import fontforge"
     ],
     "language": "python",
     "metadata": {},
     "outputs": []
    },
    {
     "cell_type": "code",
     "collapsed": true,
     "input": [
      "fontFileName = \"../../assets/Georgia.ttf\""
     ],
     "language": "python",
     "metadata": {},
     "outputs": []
    },
    {
     "cell_type": "code",
     "collapsed": true,
     "input": [
      "font = fontforge.open(fontFileName)"
     ],
     "language": "python",
     "metadata": {},
     "outputs": []
    },
    {
     "cell_type": "code",
     "collapsed": true,
     "input": [
      "font.familyname = font.familyname+\"-Blank\"\n",
      "font.fontname = font.fontname+\"-Blank\"\n",
      "font.fullname = font.fontname+\"-Blank\""
     ],
     "language": "python",
     "metadata": {},
     "outputs": []
    },
    {
     "cell_type": "code",
     "collapsed": true,
     "input": [
      "for glyph in font.glyphs():\n",
      "    if glyph.unicode != -1 and glyph.unicode != 95:\n",
      "        glyph.layers[0] = fontforge.layer()\n",
      "        glyph.layers[1] = fontforge.layer()"
     ],
     "language": "python",
     "metadata": {},
     "outputs": []
    },
    {
     "cell_type": "code",
     "collapsed": true,
     "input": [
      "#for glyph in font.glyphs():\n",
      "#    if glyph.unicode != -1 and glyph.unicode != 95:\n",
      "#        resizedContour = font[95].layers[1][0].dup()\n",
      "#        # The -5 compensates for underscores hanging 5 pixels to the left of their box\n",
      "#        rightEdge = glyph.width - 5\n",
      "#        resizedContour[0].x = rightEdge\n",
      "#        resizedContour[3].x = rightEdge\n",
      "#        glyph.layers[1] += resizedContour"
     ],
     "language": "python",
     "metadata": {},
     "outputs": []
    },
    {
     "cell_type": "code",
     "collapsed": false,
     "input": [
      "outputFileName = fontFileName[0:fontFileName.rindex(\".\")] + \"-Blank\" + fontFileName[fontFileName.rindex(\".\"):len(fontFileName)]\n",
      "font.generate(outputFileName)"
     ],
     "language": "python",
     "metadata": {},
     "outputs": []
    }
   ],
   "metadata": {}
  }
 ]
}